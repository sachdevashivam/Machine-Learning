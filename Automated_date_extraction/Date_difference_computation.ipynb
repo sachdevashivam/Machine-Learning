{
 "cells": [
  {
   "cell_type": "markdown",
   "metadata": {},
   "source": [
    "## Task 1.1 - function in python that identify which columns have date in them"
   ]
  },
  {
   "cell_type": "code",
   "execution_count": 22,
   "metadata": {},
   "outputs": [
    {
     "name": "stdout",
     "output_type": "stream",
     "text": [
      "       Date1  Numbers      Date2\n",
      "0   1/1/2020        0 2020-01-02\n",
      "1   2/1/2020        1 2020-01-03\n",
      "2        NaN        2 2020-01-04\n",
      "3   4/1/2020        3 2020-01-05\n",
      "4   5/1/2020        4 2020-01-06\n",
      "5   6/1/2020        5 2020-01-07\n",
      "6   7/1/2020        6 2020-01-08\n",
      "7   8/1/2020        7 2020-01-09\n",
      "8   9/1/2020        8 2020-01-10\n",
      "9  10/1/2020        9 2020-01-11\n"
     ]
    }
   ],
   "source": [
    "# Importing Libraries\n",
    "import numpy as np\n",
    "import pandas as pd\n",
    "import datetime\n",
    "\n",
    "# Dummy data with multiple date columns\n",
    "data = pd.DataFrame(['1/1/2020', '2/1/2020', np.nan, '4/1/2020', '5/1/2020', '6/1/2020', '7/1/2020', '8/1/2020', '9/1/2020', '10/1/2020'],columns=['Date1'])\n",
    "\n",
    "data['Numbers'] = np.arange(0, 10)\n",
    "\n",
    "data['Date2'] = pd.date_range(start='1/2/2020', periods=len(new_data))\n",
    "\n",
    "print(data)"
   ]
  },
  {
   "cell_type": "code",
   "execution_count": null,
   "metadata": {},
   "outputs": [],
   "source": []
  },
  {
   "cell_type": "code",
   "execution_count": 23,
   "metadata": {},
   "outputs": [
    {
     "data": {
      "text/plain": [
       "['Date1', 'Date2']"
      ]
     },
     "execution_count": 23,
     "metadata": {},
     "output_type": "execute_result"
    }
   ],
   "source": [
    "# Function is optimized to extract date of any datatype(datetime or object(string))\n",
    "\n",
    "# Firstly create an empty list which will contain the date columns of dataset\n",
    "date_cols = []\n",
    "\n",
    "# Create function to check dates\n",
    "def check_dates(data):\n",
    "\n",
    "# Iterating through the columns of data to check the date columns \n",
    "    for col in data.columns:\n",
    "        \n",
    "# In case the column is of object datatype we'll try to convert it into datetime with exceptional handling        \n",
    "        if data[col].dtype == 'object':\n",
    "            try:\n",
    "                data[col] = pd.to_datetime(data[col])\n",
    "                date_cols.append(col)\n",
    "            except ValueError:\n",
    "                pass\n",
    "\n",
    "# If our column is already in datetime format appending to empty list\n",
    "        elif data[col].dtype == 'datetime64[ns]':\n",
    "            date_cols.append(col)\n",
    "\n",
    "# Finally we'll return the updated list of date columns            \n",
    "    return date_cols\n",
    "\n",
    "\n",
    "\n",
    "# Calling our function to return values \n",
    "check_dates(data)   \n",
    "\n",
    "     "
   ]
  },
  {
   "cell_type": "markdown",
   "metadata": {},
   "source": [
    "# Task 1.2 - Using these date columns make new columns which are difference between these columns taking 2 at a time"
   ]
  },
  {
   "cell_type": "code",
   "execution_count": 27,
   "metadata": {},
   "outputs": [
    {
     "name": "stdout",
     "output_type": "stream",
     "text": [
      "   Numbers difference\n",
      "0        0     1 days\n",
      "1        1    29 days\n",
      "2        2        NaT\n",
      "3        3    87 days\n",
      "4        4   116 days\n",
      "5        5   146 days\n",
      "6        6   175 days\n",
      "7        7   205 days\n",
      "8        8   235 days\n",
      "9        9   264 days\n"
     ]
    }
   ],
   "source": [
    "# Task 1.2\n",
    "\n",
    "# Create function to compute differnce between date columns\n",
    "def dates_difference():    \n",
    "    \n",
    "# Run nested for loop to calculate difference of these date columns\n",
    "# Also handles large number of date columns effectively \n",
    "    for i in range(0, len(date_cols)-1):\n",
    "\n",
    "        for j in range(i + 1, len(date_cols)):\n",
    "            \n",
    "# Computing differnce into new dataframe column            \n",
    "            data['difference'] = abs(data[date_cols[i]] - data[date_cols[j]])\n",
    "\n",
    "# Task 1.3 -  Drop all the original columns containing the date and just keep the newly computed columns  \n",
    "            print(data.drop(date_cols, axis=1))\n",
    "            \n",
    "\n",
    "# Finally calling our function\n",
    "dates_difference()\n"
   ]
  },
  {
   "cell_type": "code",
   "execution_count": null,
   "metadata": {},
   "outputs": [],
   "source": []
  },
  {
   "cell_type": "code",
   "execution_count": null,
   "metadata": {},
   "outputs": [],
   "source": []
  }
 ],
 "metadata": {
  "kernelspec": {
   "display_name": "Python 3",
   "language": "python",
   "name": "python3"
  },
  "language_info": {
   "codemirror_mode": {
    "name": "ipython",
    "version": 3
   },
   "file_extension": ".py",
   "mimetype": "text/x-python",
   "name": "python",
   "nbconvert_exporter": "python",
   "pygments_lexer": "ipython3",
   "version": "3.7.3"
  }
 },
 "nbformat": 4,
 "nbformat_minor": 2
}
